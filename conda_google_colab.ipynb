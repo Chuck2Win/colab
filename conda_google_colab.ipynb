{
  "nbformat": 4,
  "nbformat_minor": 0,
  "metadata": {
    "colab": {
      "name": "conda-google_colab.ipynb",
      "provenance": [],
      "collapsed_sections": [],
      "authorship_tag": "ABX9TyP2hsGGAqw9BEWmXtqhIjGP",
      "include_colab_link": true
    },
    "kernelspec": {
      "name": "python3",
      "display_name": "Python 3"
    },
    "language_info": {
      "name": "python"
    }
  },
  "cells": [
    {
      "cell_type": "markdown",
      "metadata": {
        "id": "view-in-github",
        "colab_type": "text"
      },
      "source": [
        "<a href=\"https://colab.research.google.com/github/Chuck2Win/colab/blob/main/conda_google_colab.ipynb\" target=\"_parent\"><img src=\"https://colab.research.google.com/assets/colab-badge.svg\" alt=\"Open In Colab\"/></a>"
      ]
    },
    {
      "cell_type": "markdown",
      "metadata": {
        "id": "X7lLstoABx2E"
      },
      "source": [
        "어떤 파이썬 버전이 default로 colab에서 씌이는 지 파악"
      ]
    },
    {
      "cell_type": "code",
      "metadata": {
        "colab": {
          "base_uri": "https://localhost:8080/"
        },
        "id": "YpvVgZLUB1Yk",
        "outputId": "20311298-1988-444d-a255-1be762e066a0"
      },
      "source": [
        "!which python"
      ],
      "execution_count": 1,
      "outputs": [
        {
          "output_type": "stream",
          "name": "stdout",
          "text": [
            "/usr/local/bin/python\n"
          ]
        }
      ]
    },
    {
      "cell_type": "code",
      "metadata": {
        "colab": {
          "base_uri": "https://localhost:8080/"
        },
        "id": "jW8k7peEB5oa",
        "outputId": "7bf54592-ed73-4c91-fc36-da653634a12c"
      },
      "source": [
        "!python --version"
      ],
      "execution_count": 2,
      "outputs": [
        {
          "output_type": "stream",
          "name": "stdout",
          "text": [
            "Python 3.7.11\n"
          ]
        }
      ]
    },
    {
      "cell_type": "markdown",
      "metadata": {
        "id": "ghzxkp4gB_0z"
      },
      "source": [
        "preinstalled package를 활용하고 싶다면, python 3.7과 호환되는 mini conda를 설치하는 것이 합리적"
      ]
    },
    {
      "cell_type": "markdown",
      "metadata": {
        "id": "NW2oXqsOCQvq"
      },
      "source": [
        "python 환경 변수의 경로 확인"
      ]
    },
    {
      "cell_type": "code",
      "metadata": {
        "colab": {
          "base_uri": "https://localhost:8080/"
        },
        "id": "9beG_T56CK3P",
        "outputId": "8c5ce43d-c229-4cd2-ca3a-b0700e2b952f"
      },
      "source": [
        "! echo $PYTHONPATH"
      ],
      "execution_count": 3,
      "outputs": [
        {
          "output_type": "stream",
          "name": "stdout",
          "text": [
            "/env/python\n"
          ]
        }
      ]
    },
    {
      "cell_type": "markdown",
      "metadata": {
        "id": "g2sk5VAyCZoj"
      },
      "source": [
        "mini conda 설치 전에, PYTHONPATH를 unset하는 것이, 충돌 문제를 생각했을 때 good idea!"
      ]
    },
    {
      "cell_type": "code",
      "metadata": {
        "colab": {
          "base_uri": "https://localhost:8080/"
        },
        "id": "XoB2YvujCP2z",
        "outputId": "ed889e60-0a40-43c3-af84-48454c324875"
      },
      "source": [
        "%env PYTHONPATH="
      ],
      "execution_count": 4,
      "outputs": [
        {
          "output_type": "stream",
          "name": "stdout",
          "text": [
            "env: PYTHONPATH=\n"
          ]
        }
      ]
    },
    {
      "cell_type": "markdown",
      "metadata": {
        "id": "IFyRckaUDDy7"
      },
      "source": [
        "miniconda version check - 4.5.12"
      ]
    },
    {
      "cell_type": "code",
      "metadata": {
        "id": "ITGZgcLiDGUa"
      },
      "source": [
        "%%bash\n",
        "MINICONDA_INSTALLER_SCRIPT=Miniconda3-4.5.12-Linux-x86_64.sh\n",
        "MINICONDA_PREFIX=/usr/local\n",
        "wget https://repo.continuum.io/miniconda/$MINICONDA_INSTALLER_SCRIPT\n",
        "chmod +x $MINICONDA_INSTALLER_SCRIPT\n",
        "./$MINICONDA_INSTALLER_SCRIPT -b -f -p $MINICONDA_PREFIX"
      ],
      "execution_count": null,
      "outputs": []
    },
    {
      "cell_type": "markdown",
      "metadata": {
        "id": "P7cdBF2ADOHa"
      },
      "source": [
        "conda 경로 확인"
      ]
    },
    {
      "cell_type": "code",
      "metadata": {
        "colab": {
          "base_uri": "https://localhost:8080/"
        },
        "id": "HZAyrwTwDMpq",
        "outputId": "4fba3f75-7cb8-4d58-8b59-97106def2e9a"
      },
      "source": [
        "! which conda"
      ],
      "execution_count": 6,
      "outputs": [
        {
          "output_type": "stream",
          "name": "stdout",
          "text": [
            "/usr/local/bin/conda\n"
          ]
        }
      ]
    },
    {
      "cell_type": "code",
      "metadata": {
        "colab": {
          "base_uri": "https://localhost:8080/"
        },
        "id": "2A03GMPRDRw-",
        "outputId": "7e05c279-e6a9-482b-c369-4a1b7810ef0e"
      },
      "source": [
        "! conda --version"
      ],
      "execution_count": 7,
      "outputs": [
        {
          "output_type": "stream",
          "name": "stdout",
          "text": [
            "conda 4.5.12\n"
          ]
        }
      ]
    },
    {
      "cell_type": "markdown",
      "metadata": {
        "id": "FcmtikebDZYx"
      },
      "source": [
        "python 확인"
      ]
    },
    {
      "cell_type": "code",
      "metadata": {
        "colab": {
          "base_uri": "https://localhost:8080/"
        },
        "id": "x5FkODvtDaQq",
        "outputId": "fa4d0240-3290-424f-d15c-9c6e4dea630c"
      },
      "source": [
        "! which python"
      ],
      "execution_count": 8,
      "outputs": [
        {
          "output_type": "stream",
          "name": "stdout",
          "text": [
            "/usr/local/bin/python\n"
          ]
        }
      ]
    },
    {
      "cell_type": "code",
      "metadata": {
        "colab": {
          "base_uri": "https://localhost:8080/"
        },
        "id": "c2EQnwEJDbdZ",
        "outputId": "d4dd1898-9d22-49d6-b196-7a79bcf9fc7b"
      },
      "source": [
        "! python --version # 3.7.11->3.7.1로 변경"
      ],
      "execution_count": 10,
      "outputs": [
        {
          "output_type": "stream",
          "name": "stdout",
          "text": [
            "Python 3.7.1\n"
          ]
        }
      ]
    },
    {
      "cell_type": "markdown",
      "metadata": {
        "id": "Hviwfhx8DrXR"
      },
      "source": [
        "python version은 3.7로 고정한 채, conda만 update"
      ]
    },
    {
      "cell_type": "code",
      "metadata": {
        "colab": {
          "base_uri": "https://localhost:8080/"
        },
        "id": "mjEMl-dfDiJU",
        "outputId": "d3eede78-2819-4455-c74b-f026650137ba"
      },
      "source": [
        "%%bash\n",
        "conda install --channel defaults conda python=3.7 --yes\n",
        "conda update --channel defaults --all --yes"
      ],
      "execution_count": 11,
      "outputs": [
        {
          "output_type": "stream",
          "name": "stdout",
          "text": [
            "Solving environment: ...working... done\n",
            "\n",
            "## Package Plan ##\n",
            "\n",
            "  environment location: /usr/local\n",
            "\n",
            "  added / updated specs: \n",
            "    - conda\n",
            "    - python=3.7\n",
            "\n",
            "\n",
            "The following packages will be downloaded:\n",
            "\n",
            "    package                    |            build\n",
            "    ---------------------------|-----------------\n",
            "    wheel-0.37.0               |     pyhd3eb1b0_0          31 KB\n",
            "    idna-3.2                   |     pyhd3eb1b0_0          54 KB\n",
            "    pip-21.2.2                 |   py37h06a4308_0         2.0 MB\n",
            "    libffi-3.3                 |       he6710b0_2          54 KB\n",
            "    pyopenssl-20.0.1           |     pyhd3eb1b0_1          48 KB\n",
            "    libgcc-ng-9.1.0            |       hdf63c60_0         8.1 MB\n",
            "    certifi-2021.5.30          |   py37h06a4308_0         141 KB\n",
            "    pycparser-2.20             |             py_2          94 KB\n",
            "    xz-5.2.5                   |       h7b6447c_0         438 KB\n",
            "    conda-package-handling-1.7.3|   py37h27cfd23_1         962 KB\n",
            "    brotlipy-0.7.0             |py37h27cfd23_1003         350 KB\n",
            "    python-3.7.11              |       h12debd9_0        52.9 MB\n",
            "    setuptools-52.0.0          |   py37h06a4308_0         921 KB\n",
            "    tqdm-4.62.1                |     pyhd3eb1b0_1          80 KB\n",
            "    readline-8.1               |       h27cfd23_0         464 KB\n",
            "    cryptography-3.4.7         |   py37hd23ed53_0         1.0 MB\n",
            "    ruamel_yaml-0.15.100       |   py37h27cfd23_0         267 KB\n",
            "    conda-4.10.3               |   py37h06a4308_0         3.1 MB\n",
            "    charset-normalizer-2.0.4   |     pyhd3eb1b0_0          33 KB\n",
            "    _libgcc_mutex-0.1          |             main           3 KB\n",
            "    urllib3-1.26.6             |     pyhd3eb1b0_1         106 KB\n",
            "    ca-certificates-2021.7.5   |       h06a4308_1         119 KB\n",
            "    tk-8.6.10                  |       hbc83047_0         3.2 MB\n",
            "    cffi-1.14.6                |   py37h400218f_0         224 KB\n",
            "    openssl-1.1.1k             |       h27cfd23_0         3.8 MB\n",
            "    six-1.16.0                 |     pyhd3eb1b0_0          18 KB\n",
            "    pycosat-0.6.3              |   py37h27cfd23_0         108 KB\n",
            "    ncurses-6.2                |       he6710b0_1         1.1 MB\n",
            "    yaml-0.2.5                 |       h7b6447c_0          87 KB\n",
            "    sqlite-3.36.0              |       hc218d9a_0         1.4 MB\n",
            "    pysocks-1.7.1              |           py37_1          27 KB\n",
            "    requests-2.26.0            |     pyhd3eb1b0_0          59 KB\n",
            "    ld_impl_linux-64-2.35.1    |       h7274673_9         637 KB\n",
            "    ------------------------------------------------------------\n",
            "                                           Total:        81.8 MB\n",
            "\n",
            "The following NEW packages will be INSTALLED:\n",
            "\n",
            "    _libgcc_mutex:          0.1-main               \n",
            "    brotlipy:               0.7.0-py37h27cfd23_1003\n",
            "    charset-normalizer:     2.0.4-pyhd3eb1b0_0     \n",
            "    conda-package-handling: 1.7.3-py37h27cfd23_1   \n",
            "    ld_impl_linux-64:       2.35.1-h7274673_9      \n",
            "    tqdm:                   4.62.1-pyhd3eb1b0_1    \n",
            "\n",
            "The following packages will be UPDATED:\n",
            "\n",
            "    ca-certificates:        2018.03.07-0            --> 2021.7.5-h06a4308_1     \n",
            "    certifi:                2018.11.29-py37_0       --> 2021.5.30-py37h06a4308_0\n",
            "    cffi:                   1.11.5-py37he75722e_1   --> 1.14.6-py37h400218f_0   \n",
            "    conda:                  4.5.12-py37_0           --> 4.10.3-py37h06a4308_0   \n",
            "    cryptography:           2.4.2-py37h1ba5d50_0    --> 3.4.7-py37hd23ed53_0    \n",
            "    idna:                   2.8-py37_0              --> 3.2-pyhd3eb1b0_0        \n",
            "    libffi:                 3.2.1-hd88cf55_4        --> 3.3-he6710b0_2          \n",
            "    libgcc-ng:              8.2.0-hdf63c60_1        --> 9.1.0-hdf63c60_0        \n",
            "    ncurses:                6.1-he6710b0_1          --> 6.2-he6710b0_1          \n",
            "    openssl:                1.1.1a-h7b6447c_0       --> 1.1.1k-h27cfd23_0       \n",
            "    pip:                    18.1-py37_0             --> 21.2.2-py37h06a4308_0   \n",
            "    pycosat:                0.6.3-py37h14c3975_0    --> 0.6.3-py37h27cfd23_0    \n",
            "    pycparser:              2.19-py37_0             --> 2.20-py_2               \n",
            "    pyopenssl:              18.0.0-py37_0           --> 20.0.1-pyhd3eb1b0_1     \n",
            "    pysocks:                1.6.8-py37_0            --> 1.7.1-py37_1            \n",
            "    python:                 3.7.1-h0371630_7        --> 3.7.11-h12debd9_0       \n",
            "    readline:               7.0-h7b6447c_5          --> 8.1-h27cfd23_0          \n",
            "    requests:               2.21.0-py37_0           --> 2.26.0-pyhd3eb1b0_0     \n",
            "    ruamel_yaml:            0.15.46-py37h14c3975_0  --> 0.15.100-py37h27cfd23_0 \n",
            "    setuptools:             40.6.3-py37_0           --> 52.0.0-py37h06a4308_0   \n",
            "    six:                    1.12.0-py37_0           --> 1.16.0-pyhd3eb1b0_0     \n",
            "    sqlite:                 3.26.0-h7b6447c_0       --> 3.36.0-hc218d9a_0       \n",
            "    tk:                     8.6.8-hbc83047_0        --> 8.6.10-hbc83047_0       \n",
            "    urllib3:                1.24.1-py37_0           --> 1.26.6-pyhd3eb1b0_1     \n",
            "    wheel:                  0.32.3-py37_0           --> 0.37.0-pyhd3eb1b0_0     \n",
            "    xz:                     5.2.4-h14c3975_4        --> 5.2.5-h7b6447c_0        \n",
            "    yaml:                   0.1.7-had09818_2        --> 0.2.5-h7b6447c_0        \n",
            "\n",
            "\n",
            "Downloading and Extracting Packages\n",
            "Preparing transaction: ...working... done\n",
            "Verifying transaction: ...working... done\n",
            "Executing transaction: ...working... done\n",
            "Collecting package metadata (current_repodata.json): ...working... done\n",
            "Solving environment: ...working... done\n",
            "\n",
            "## Package Plan ##\n",
            "\n",
            "  environment location: /usr/local\n",
            "\n",
            "\n",
            "The following packages will be downloaded:\n",
            "\n",
            "    package                    |            build\n",
            "    ---------------------------|-----------------\n",
            "    _openmp_mutex-4.5          |            1_gnu          22 KB\n",
            "    libgcc-ng-9.3.0            |      h5101ec6_17         4.8 MB\n",
            "    libgomp-9.3.0              |      h5101ec6_17         311 KB\n",
            "    libstdcxx-ng-9.3.0         |      hd4cf53a_17         3.1 MB\n",
            "    ------------------------------------------------------------\n",
            "                                           Total:         8.2 MB\n",
            "\n",
            "The following NEW packages will be INSTALLED:\n",
            "\n",
            "  _openmp_mutex      pkgs/main/linux-64::_openmp_mutex-4.5-1_gnu\n",
            "  libgomp            pkgs/main/linux-64::libgomp-9.3.0-h5101ec6_17\n",
            "\n",
            "The following packages will be REMOVED:\n",
            "\n",
            "  asn1crypto-0.24.0-py37_0\n",
            "  chardet-3.0.4-py37_1\n",
            "  conda-env-2.6.0-1\n",
            "  libedit-3.1.20170329-h6b74fdf_2\n",
            "\n",
            "The following packages will be UPDATED:\n",
            "\n",
            "  libgcc-ng                                9.1.0-hdf63c60_0 --> 9.3.0-h5101ec6_17\n",
            "  libstdcxx-ng                             8.2.0-hdf63c60_1 --> 9.3.0-hd4cf53a_17\n",
            "\n",
            "\n",
            "\n",
            "Downloading and Extracting Packages\n",
            "\r_openmp_mutex-4.5    | 22 KB     |            |   0% \r_openmp_mutex-4.5    | 22 KB     | ########## | 100% \n",
            "\rlibgomp-9.3.0        | 311 KB    |            |   0% \rlibgomp-9.3.0        | 311 KB    | ########## | 100% \rlibgomp-9.3.0        | 311 KB    | ########## | 100% \n",
            "\rlibstdcxx-ng-9.3.0   | 3.1 MB    |            |   0% \rlibstdcxx-ng-9.3.0   | 3.1 MB    | ########## | 100% \rlibstdcxx-ng-9.3.0   | 3.1 MB    | ########## | 100% \n",
            "\rlibgcc-ng-9.3.0      | 4.8 MB    |            |   0% \rlibgcc-ng-9.3.0      | 4.8 MB    | ########## | 100% \rlibgcc-ng-9.3.0      | 4.8 MB    | ########## | 100% \n",
            "Preparing transaction: ...working... done\n",
            "Verifying transaction: ...working... done\n",
            "Executing transaction: ...working... done\n"
          ]
        },
        {
          "output_type": "stream",
          "name": "stderr",
          "text": [
            "\rwheel-0.37.0         | 31 KB     |            |   0% \rwheel-0.37.0         | 31 KB     | ########## | 100% \n",
            "\ridna-3.2             | 54 KB     |            |   0% \ridna-3.2             | 54 KB     | ########## | 100% \n",
            "\rpip-21.2.2           | 2.0 MB    |            |   0% \rpip-21.2.2           | 2.0 MB    | #######7   |  78% \rpip-21.2.2           | 2.0 MB    | #########1 |  91% \rpip-21.2.2           | 2.0 MB    | ########## | 100% \n",
            "\rlibffi-3.3           | 54 KB     |            |   0% \rlibffi-3.3           | 54 KB     | ########## | 100% \n",
            "\rpyopenssl-20.0.1     | 48 KB     |            |   0% \rpyopenssl-20.0.1     | 48 KB     | ########## | 100% \n",
            "\rlibgcc-ng-9.1.0      | 8.1 MB    |            |   0% \rlibgcc-ng-9.1.0      | 8.1 MB    | ######6    |  67% \rlibgcc-ng-9.1.0      | 8.1 MB    | ########6  |  86% \rlibgcc-ng-9.1.0      | 8.1 MB    | ########## | 100% \n",
            "\rcertifi-2021.5.30    | 141 KB    |            |   0% \rcertifi-2021.5.30    | 141 KB    | ########## | 100% \n",
            "\rpycparser-2.20       | 94 KB     |            |   0% \rpycparser-2.20       | 94 KB     | ########## | 100% \n",
            "\rxz-5.2.5             | 438 KB    |            |   0% \rxz-5.2.5             | 438 KB    | #########  |  90% \rxz-5.2.5             | 438 KB    | ########## | 100% \n",
            "\rconda-package-handli | 962 KB    |            |   0% \rconda-package-handli | 962 KB    | ########7  |  88% \rconda-package-handli | 962 KB    | ########## | 100% \n",
            "\rbrotlipy-0.7.0       | 350 KB    |            |   0% \rbrotlipy-0.7.0       | 350 KB    | ########## | 100% \n",
            "\rpython-3.7.11        | 52.9 MB   |            |   0% \rpython-3.7.11        | 52.9 MB   | 9          |   9% \rpython-3.7.11        | 52.9 MB   | ##6        |  26% \rpython-3.7.11        | 52.9 MB   | ####3      |  43% \rpython-3.7.11        | 52.9 MB   | #####5     |  56% \rpython-3.7.11        | 52.9 MB   | #######1   |  72% \rpython-3.7.11        | 52.9 MB   | ########4  |  84% \rpython-3.7.11        | 52.9 MB   | #########2 |  93% \rpython-3.7.11        | 52.9 MB   | #########9 |  99% \rpython-3.7.11        | 52.9 MB   | ########## | 100% \n",
            "\rsetuptools-52.0.0    | 921 KB    |            |   0% \rsetuptools-52.0.0    | 921 KB    | ########   |  80% \rsetuptools-52.0.0    | 921 KB    | ########## | 100% \n",
            "\rtqdm-4.62.1          | 80 KB     |            |   0% \rtqdm-4.62.1          | 80 KB     | ########## | 100% \n",
            "\rreadline-8.1         | 464 KB    |            |   0% \rreadline-8.1         | 464 KB    | #########5 |  95% \rreadline-8.1         | 464 KB    | ########## | 100% \n",
            "\rcryptography-3.4.7   | 1.0 MB    |            |   0% \rcryptography-3.4.7   | 1.0 MB    | #######8   |  78% \rcryptography-3.4.7   | 1.0 MB    | #########7 |  98% \rcryptography-3.4.7   | 1.0 MB    | ########## | 100% \n",
            "\rruamel_yaml-0.15.100 | 267 KB    |            |   0% \rruamel_yaml-0.15.100 | 267 KB    | ########## | 100% \n",
            "\rconda-4.10.3         | 3.1 MB    |            |   0% \rconda-4.10.3         | 3.1 MB    | #######8   |  79% \rconda-4.10.3         | 3.1 MB    | ########## | 100% \n",
            "\rcharset-normalizer-2 | 33 KB     |            |   0% \rcharset-normalizer-2 | 33 KB     | ########## | 100% \n",
            "\r_libgcc_mutex-0.1    | 3 KB      |            |   0% \r_libgcc_mutex-0.1    | 3 KB      | ########## | 100% \n",
            "\rurllib3-1.26.6       | 106 KB    |            |   0% \rurllib3-1.26.6       | 106 KB    | ########## | 100% \n",
            "\rca-certificates-2021 | 119 KB    |            |   0% \rca-certificates-2021 | 119 KB    | ########## | 100% \n",
            "\rtk-8.6.10            | 3.2 MB    |            |   0% \rtk-8.6.10            | 3.2 MB    | #######6   |  76% \rtk-8.6.10            | 3.2 MB    | #########8 |  99% \rtk-8.6.10            | 3.2 MB    | ########## | 100% \n",
            "\rcffi-1.14.6          | 224 KB    |            |   0% \rcffi-1.14.6          | 224 KB    | ########## | 100% \n",
            "\ropenssl-1.1.1k       | 3.8 MB    |            |   0% \ropenssl-1.1.1k       | 3.8 MB    | #######6   |  76% \ropenssl-1.1.1k       | 3.8 MB    | #########7 |  98% \ropenssl-1.1.1k       | 3.8 MB    | ########## | 100% \n",
            "\rsix-1.16.0           | 18 KB     |            |   0% \rsix-1.16.0           | 18 KB     | ########## | 100% \n",
            "\rpycosat-0.6.3        | 108 KB    |            |   0% \rpycosat-0.6.3        | 108 KB    | ########## | 100% \n",
            "\rncurses-6.2          | 1.1 MB    |            |   0% \rncurses-6.2          | 1.1 MB    | #######8   |  78% \rncurses-6.2          | 1.1 MB    | #########5 |  96% \rncurses-6.2          | 1.1 MB    | ########## | 100% \n",
            "\ryaml-0.2.5           | 87 KB     |            |   0% \ryaml-0.2.5           | 87 KB     | ########## | 100% \n",
            "\rsqlite-3.36.0        | 1.4 MB    |            |   0% \rsqlite-3.36.0        | 1.4 MB    | #######9   |  80% \rsqlite-3.36.0        | 1.4 MB    | ########## | 100% \n",
            "\rpysocks-1.7.1        | 27 KB     |            |   0% \rpysocks-1.7.1        | 27 KB     | ########## | 100% \n",
            "\rrequests-2.26.0      | 59 KB     |            |   0% \rrequests-2.26.0      | 59 KB     | ########## | 100% \n",
            "\rld_impl_linux-64-2.3 | 637 KB    |            |   0% \rld_impl_linux-64-2.3 | 637 KB    | #########1 |  92% \rld_impl_linux-64-2.3 | 637 KB    | ########## | 100% \n"
          ]
        }
      ]
    },
    {
      "cell_type": "code",
      "metadata": {
        "colab": {
          "base_uri": "https://localhost:8080/"
        },
        "id": "fr1hufrYDxAB",
        "outputId": "85470270-a35f-470d-aaf4-e42e88eb9e1e"
      },
      "source": [
        "! conda --version # now returns 4.10.3"
      ],
      "execution_count": 12,
      "outputs": [
        {
          "output_type": "stream",
          "name": "stdout",
          "text": [
            "conda 4.10.3\n"
          ]
        }
      ]
    },
    {
      "cell_type": "markdown",
      "metadata": {
        "id": "5YhaSUsUEKHk"
      },
      "source": [
        "Miniconda 설치 후, 내 전용 package를 위한 directory를 추가해줘야함.  \n",
        "sys.path를 하면, python이 import하기 위한 directory list를 확인할 수 있음."
      ]
    },
    {
      "cell_type": "code",
      "metadata": {
        "id": "WGVhcEnqD_nk"
      },
      "source": [
        "import sys\n",
        "sys.path"
      ],
      "execution_count": null,
      "outputs": []
    },
    {
      "cell_type": "markdown",
      "metadata": {
        "id": "XkJa_TOrEg-8"
      },
      "source": [
        "colab에서 쓰는 것은, '/usr/local/lib/python3.7/dist-packages' directory임."
      ]
    },
    {
      "cell_type": "code",
      "metadata": {
        "id": "jig6ZKTNEfgz"
      },
      "source": [
        "! ls /usr/local/lib/python3.7/dist-packages"
      ],
      "execution_count": null,
      "outputs": []
    },
    {
      "cell_type": "markdown",
      "metadata": {
        "id": "vSESLWNxEuY1"
      },
      "source": [
        "만약 너가 conda로 package를 install한다면, '/usr/local/lib/python3.7/dist-packages'에 저장이 됨. 그래서 이를 방지하기 위해, 너만의 directory를 만들어야 함."
      ]
    },
    {
      "cell_type": "code",
      "metadata": {
        "id": "VOwGnweNE6oY"
      },
      "source": [
        "import sys\n",
        "_ = (sys.path.append(\"/usr/local/lib/python3.7/site-packages\"))"
      ],
      "execution_count": 21,
      "outputs": []
    },
    {
      "cell_type": "code",
      "metadata": {
        "colab": {
          "base_uri": "https://localhost:8080/"
        },
        "id": "_7iHm8qDE-Kj",
        "outputId": "2c79fd73-eddf-4949-b4db-ba73f859a5a2"
      },
      "source": [
        "sys.path"
      ],
      "execution_count": 17,
      "outputs": [
        {
          "output_type": "execute_result",
          "data": {
            "text/plain": [
              "['',\n",
              " '/content',\n",
              " '/env/python',\n",
              " '/usr/lib/python37.zip',\n",
              " '/usr/lib/python3.7',\n",
              " '/usr/lib/python3.7/lib-dynload',\n",
              " '/usr/local/lib/python3.7/dist-packages',\n",
              " '/usr/lib/python3/dist-packages',\n",
              " '/usr/local/lib/python3.7/dist-packages/IPython/extensions',\n",
              " '/root/.ipython',\n",
              " '/usr/local/lib/python3.7/ok-packages']"
            ]
          },
          "metadata": {},
          "execution_count": 17
        }
      ]
    },
    {
      "cell_type": "code",
      "metadata": {
        "colab": {
          "base_uri": "https://localhost:8080/"
        },
        "id": "dtPiS--OFHnG",
        "outputId": "d7b89587-357a-4ed1-d349-12c9c597761d"
      },
      "source": [
        "! ls /usr/local/lib/python3.7/site-packages"
      ],
      "execution_count": 23,
      "outputs": [
        {
          "output_type": "stream",
          "name": "stdout",
          "text": [
            "brotli\n",
            "brotlipy-0.7.0-py3.7.egg-info\n",
            "caffe2\n",
            "certifi\n",
            "certifi-2021.5.30-py3.7.egg-info\n",
            "cffi\n",
            "cffi-1.14.6.dist-info\n",
            "_cffi_backend.cpython-37m-x86_64-linux-gnu.so\n",
            "charset_normalizer\n",
            "charset_normalizer-2.0.4.dist-info\n",
            "click\n",
            "click-8.0.1.dist-info\n",
            "conda\n",
            "conda-4.10.3-py3.7.egg-info\n",
            "conda_env\n",
            "conda_package_handling\n",
            "conda_package_handling-1.7.3.dist-info\n",
            "cryptography\n",
            "cryptography-3.4.7.dist-info\n",
            "dataclasses-0.8.dist-info\n",
            "_distutils_hack\n",
            "distutils-precedence.pth\n",
            "filelock-3.0.12.dist-info\n",
            "filelock.py\n",
            "future\n",
            "future-0.18.2.dist-info\n",
            "huggingface_hub\n",
            "huggingface_hub-0.0.16.dist-info\n",
            "idna\n",
            "idna-3.2.dist-info\n",
            "importlib_metadata\n",
            "importlib_metadata-4.8.1.dist-info\n",
            "joblib\n",
            "joblib-1.0.1.dist-info\n",
            "libfuturize\n",
            "libpasteurize\n",
            "Misc\n",
            "numpy\n",
            "numpy-1.20.3.dist-info\n",
            "OpenSSL\n",
            "packaging\n",
            "packaging-21.0.dist-info\n",
            "past\n",
            "pip\n",
            "pip-21.2.2-py3.7.egg-info\n",
            "pkg_resources\n",
            "__pycache__\n",
            "pycosat-0.6.3-py3.7.egg-info\n",
            "pycosat.cpython-37m-x86_64-linux-gnu.so\n",
            "pycparser\n",
            "pycparser-2.20.dist-info\n",
            "pyOpenSSL-20.0.1.dist-info\n",
            "pyparsing-2.4.7.dist-info\n",
            "pyparsing.py\n",
            "PySocks-1.7.1.dist-info\n",
            "PyYAML-5.4.1-py3.7-linux-x86_64.egg-info\n",
            "README.txt\n",
            "regex\n",
            "regex-2021.8.3.dist-info\n",
            "requests\n",
            "requests-2.26.0.dist-info\n",
            "ruamel_yaml\n",
            "ruamel_yaml_conda-0.15.100.dist-info\n",
            "sacremoses\n",
            "sacremoses-0.0.43.dist-info\n",
            "setuptools\n",
            "setuptools-52.0.0.post20210125-py3.7.egg-info\n",
            "six-1.16.0.dist-info\n",
            "six.py\n",
            "sockshandler.py\n",
            "socks.py\n",
            "test_data\n",
            "test_pycosat.py\n",
            "tokenizers\n",
            "tokenizers-0.10.1.dist-info\n",
            "torch\n",
            "torch-1.9.0.post2.dist-info\n",
            "tqdm\n",
            "tqdm-4.62.1.dist-info\n",
            "transformers\n",
            "transformers-4.9.2.dist-info\n",
            "typing_extensions-3.10.0.0.dist-info\n",
            "typing_extensions.py\n",
            "urllib3\n",
            "urllib3-1.26.6.dist-info\n",
            "wheel\n",
            "wheel-0.37.0-py3.9.egg-info\n",
            "xontrib\n",
            "yaml\n",
            "_yaml\n",
            "zipp-3.5.0.dist-info\n",
            "zipp.py\n"
          ]
        }
      ]
    },
    {
      "cell_type": "markdown",
      "metadata": {
        "id": "NaEYw_zgFSVm"
      },
      "source": [
        "내가 원하는 패키지 설치  \n",
        "--yes를 추가해줘라, 내가 방금 만든 곳에 설치하고프면"
      ]
    },
    {
      "cell_type": "code",
      "metadata": {
        "colab": {
          "base_uri": "https://localhost:8080/"
        },
        "id": "HBQQHTh-FRvL",
        "outputId": "dfc43701-c42e-43af-dc29-39a61f2e5076"
      },
      "source": [
        "! conda install --channel conda-forge transformers --yes"
      ],
      "execution_count": 22,
      "outputs": [
        {
          "output_type": "stream",
          "name": "stdout",
          "text": [
            "Collecting package metadata (current_repodata.json): - \b\b\\ \b\b| \b\b/ \b\b- \b\b\\ \b\b| \b\b/ \b\b- \b\b\\ \b\b| \b\b/ \b\b- \b\b\\ \b\b| \b\b/ \b\b- \b\b\\ \b\b| \b\bdone\n",
            "Solving environment: - \b\b\\ \b\b| \b\b/ \b\b- \b\b\\ \b\b| \b\b/ \b\b- \b\b\\ \b\b| \b\b/ \b\b- \b\b\\ \b\b| \b\b/ \b\b- \b\b\\ \b\b| \b\b/ \b\b- \b\b\\ \b\bdone\n",
            "\n",
            "# All requested packages already installed.\n",
            "\n"
          ]
        }
      ]
    },
    {
      "cell_type": "markdown",
      "metadata": {
        "id": "T3DprVOWGGiU"
      },
      "source": [
        "# conda로 가상 환경 만들기"
      ]
    },
    {
      "cell_type": "code",
      "metadata": {
        "colab": {
          "base_uri": "https://localhost:8080/"
        },
        "id": "dH_By1MXF8e2",
        "outputId": "c13cca11-3f24-4f36-bdb2-733e05d74140"
      },
      "source": [
        "! conda create -n first python==3.7"
      ],
      "execution_count": 24,
      "outputs": [
        {
          "output_type": "stream",
          "name": "stdout",
          "text": [
            "Collecting package metadata (current_repodata.json): - \b\b\\ \b\b| \b\b/ \b\bdone\n",
            "Solving environment: \\ \b\bfailed with repodata from current_repodata.json, will retry with next repodata source.\n",
            "Collecting package metadata (repodata.json): / \b\b- \b\b\\ \b\b| \b\b/ \b\b- \b\b\\ \b\b| \b\b/ \b\b- \b\b\\ \b\b| \b\b/ \b\b- \b\b\\ \b\b| \b\b/ \b\b- \b\b\\ \b\b| \b\b/ \b\b- \b\b\\ \b\b| \b\b/ \b\b- \b\b\\ \b\b| \b\b/ \b\b- \b\b\\ \b\b| \b\b/ \b\b- \b\b\\ \b\b| \b\b/ \b\b- \b\bdone\n",
            "Solving environment: | \b\b/ \b\b- \b\b\\ \b\bdone\n",
            "\n",
            "## Package Plan ##\n",
            "\n",
            "  environment location: /usr/local/envs/first\n",
            "\n",
            "  added / updated specs:\n",
            "    - python==3.7\n",
            "\n",
            "\n",
            "The following packages will be downloaded:\n",
            "\n",
            "    package                    |            build\n",
            "    ---------------------------|-----------------\n",
            "    libedit-3.1.20210714       |       h7f8727e_0         165 KB\n",
            "    libffi-3.2.1               |    hf484d3e_1007          48 KB\n",
            "    openssl-1.0.2u             |       h7b6447c_0         2.2 MB\n",
            "    python-3.7.0               |       h6e4f718_3        27.2 MB\n",
            "    sqlite-3.33.0              |       h62c20be_0         1.1 MB\n",
            "    ------------------------------------------------------------\n",
            "                                           Total:        30.7 MB\n",
            "\n",
            "The following NEW packages will be INSTALLED:\n",
            "\n",
            "  _libgcc_mutex      pkgs/main/linux-64::_libgcc_mutex-0.1-main\n",
            "  _openmp_mutex      pkgs/main/linux-64::_openmp_mutex-4.5-1_gnu\n",
            "  ca-certificates    pkgs/main/linux-64::ca-certificates-2021.7.5-h06a4308_1\n",
            "  certifi            pkgs/main/linux-64::certifi-2021.5.30-py37h06a4308_0\n",
            "  libedit            pkgs/main/linux-64::libedit-3.1.20210714-h7f8727e_0\n",
            "  libffi             pkgs/main/linux-64::libffi-3.2.1-hf484d3e_1007\n",
            "  libgcc-ng          pkgs/main/linux-64::libgcc-ng-9.3.0-h5101ec6_17\n",
            "  libgomp            pkgs/main/linux-64::libgomp-9.3.0-h5101ec6_17\n",
            "  libstdcxx-ng       pkgs/main/linux-64::libstdcxx-ng-9.3.0-hd4cf53a_17\n",
            "  ncurses            pkgs/main/linux-64::ncurses-6.2-he6710b0_1\n",
            "  openssl            pkgs/main/linux-64::openssl-1.0.2u-h7b6447c_0\n",
            "  pip                pkgs/main/linux-64::pip-21.2.2-py37h06a4308_0\n",
            "  python             pkgs/main/linux-64::python-3.7.0-h6e4f718_3\n",
            "  readline           pkgs/main/linux-64::readline-7.0-h7b6447c_5\n",
            "  setuptools         pkgs/main/linux-64::setuptools-52.0.0-py37h06a4308_0\n",
            "  sqlite             pkgs/main/linux-64::sqlite-3.33.0-h62c20be_0\n",
            "  tk                 pkgs/main/linux-64::tk-8.6.10-hbc83047_0\n",
            "  wheel              pkgs/main/noarch::wheel-0.37.0-pyhd3eb1b0_0\n",
            "  xz                 pkgs/main/linux-64::xz-5.2.5-h7b6447c_0\n",
            "  zlib               pkgs/main/linux-64::zlib-1.2.11-h7b6447c_3\n",
            "\n",
            "\n",
            "Proceed ([y]/n)? y\n",
            "\n",
            "\n",
            "Downloading and Extracting Packages\n",
            "libffi-3.2.1         | 48 KB     | : 100% 1.0/1 [00:00<00:00,  8.07it/s]\n",
            "sqlite-3.33.0        | 1.1 MB    | : 100% 1.0/1 [00:00<00:00,  6.30it/s]               \n",
            "python-3.7.0         | 27.2 MB   | : 100% 1.0/1 [00:00<00:00,  1.08it/s]               \n",
            "libedit-3.1.20210714 | 165 KB    | : 100% 1.0/1 [00:00<00:00, 12.91it/s]\n",
            "openssl-1.0.2u       | 2.2 MB    | : 100% 1.0/1 [00:00<00:00,  6.83it/s]\n",
            "Preparing transaction: / \b\b- \b\b\\ \b\bdone\n",
            "Verifying transaction: / \b\b- \b\b\\ \b\b| \b\b/ \b\b- \b\b\\ \b\b| \b\b/ \b\b- \b\b\\ \b\b| \b\b/ \b\b- \b\b\\ \b\bdone\n",
            "Executing transaction: / \b\b- \b\b\\ \b\b| \b\b/ \b\b- \b\b\\ \b\b| \b\b/ \b\b- \b\bdone\n",
            "#\n",
            "# To activate this environment, use\n",
            "#\n",
            "#     $ conda activate first\n",
            "#\n",
            "# To deactivate an active environment, use\n",
            "#\n",
            "#     $ conda deactivate\n",
            "\n"
          ]
        }
      ]
    },
    {
      "cell_type": "code",
      "metadata": {
        "colab": {
          "base_uri": "https://localhost:8080/"
        },
        "id": "bNnzp1w5GVGn",
        "outputId": "ab5ccdeb-8530-49d3-88f2-8cf336331811"
      },
      "source": [
        "! source activate first && conda env list"
      ],
      "execution_count": 25,
      "outputs": [
        {
          "output_type": "stream",
          "name": "stdout",
          "text": [
            "# conda environments:\n",
            "#\n",
            "base                     /usr/local\n",
            "first                 *  /usr/local/envs/first\n",
            "\n"
          ]
        }
      ]
    },
    {
      "cell_type": "code",
      "metadata": {
        "colab": {
          "base_uri": "https://localhost:8080/"
        },
        "id": "nhzbR_PWGgu1",
        "outputId": "30b3c508-a203-44c3-ab03-97fbcb0717bf"
      },
      "source": [
        "! pip list"
      ],
      "execution_count": 26,
      "outputs": [
        {
          "output_type": "stream",
          "name": "stdout",
          "text": [
            "Package                Version\n",
            "---------------------- -------------------\n",
            "brotlipy               0.7.0\n",
            "certifi                2021.5.30\n",
            "cffi                   1.14.6\n",
            "charset-normalizer     2.0.4\n",
            "click                  8.0.1\n",
            "conda                  4.10.3\n",
            "conda-package-handling 1.7.3\n",
            "cryptography           3.4.7\n",
            "dataclasses            0.8\n",
            "filelock               3.0.12\n",
            "future                 0.18.2\n",
            "huggingface-hub        0.0.16\n",
            "idna                   3.2\n",
            "importlib-metadata     4.8.1\n",
            "joblib                 1.0.1\n",
            "numpy                  1.20.3\n",
            "packaging              21.0\n",
            "pip                    21.2.2\n",
            "pycosat                0.6.3\n",
            "pycparser              2.20\n",
            "pyOpenSSL              20.0.1\n",
            "pyparsing              2.4.7\n",
            "PySocks                1.7.1\n",
            "PyYAML                 5.4.1\n",
            "regex                  2021.8.3\n",
            "requests               2.26.0\n",
            "ruamel-yaml-conda      0.15.100\n",
            "sacremoses             0.0.43\n",
            "setuptools             52.0.0.post20210125\n",
            "six                    1.16.0\n",
            "tokenizers             0.10.1\n",
            "torch                  1.9.0.post2\n",
            "tqdm                   4.62.1\n",
            "transformers           4.9.2\n",
            "typing-extensions      3.10.0.0\n",
            "urllib3                1.26.6\n",
            "wheel                  0.37.0\n",
            "zipp                   3.5.0\n"
          ]
        }
      ]
    }
  ]
}